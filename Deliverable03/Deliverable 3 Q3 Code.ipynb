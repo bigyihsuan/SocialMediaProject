{
 "cells": [
  {
   "cell_type": "code",
   "execution_count": 2,
   "metadata": {},
   "outputs": [],
   "source": [
    "import numpy as np\n",
    "import pandas as pd\n",
    "\n",
    "directory = ''\n",
    "file = 'pseudo_facebook.csv'\n",
    "df = pd.read_csv(file)"
   ]
  },
  {
   "cell_type": "code",
   "execution_count": 3,
   "metadata": {},
   "outputs": [],
   "source": [
    "#Remove outliers\n",
    "df = df[df[\"likes\"] < 202]\n",
    "df = df[ df[\"likes_received\"] < 147]\n",
    "df = df[df[\"friendships_initiated\"] < 268]\n",
    "df = df[df[\"friend_count\"] < 469]"
   ]
  },
  {
   "cell_type": "code",
   "execution_count": 4,
   "metadata": {},
   "outputs": [],
   "source": [
    "#Calculate success \n",
    "df['success'] = (df['likes'] + df[\"friend_count\"]) / (df[\"likes_received\"] + df[\"friendships_initiated\"])"
   ]
  },
  {
   "cell_type": "code",
   "execution_count": 5,
   "metadata": {},
   "outputs": [],
   "source": [
    "#Remove infinity and NaN\n",
    "df['success'] = df[\"success\"].replace([np.inf, -np.inf], np.nan)\n",
    "df = df.dropna(subset=['success'])"
   ]
  },
  {
   "cell_type": "code",
   "execution_count": 6,
   "metadata": {},
   "outputs": [],
   "source": [
    "#Create tiers based on tenure (account age)\n",
    "bin_labels = [\"Noob\", \"Rookie\", \"Veteran\", \"Early Adopter\"]\n",
    "df[\"tier\"], bin_edges = pd.qcut(df['tenure'], q=4, labels=bin_labels, retbins=True)"
   ]
  },
  {
   "cell_type": "code",
   "execution_count": 7,
   "metadata": {},
   "outputs": [],
   "source": [
    "#Create new DataFrame for desired results\n",
    "results = pd.DataFrame(columns=['avg_success', 'tenure', 'tier'])\n",
    "for label in bin_labels:\n",
    "    label_df = df.loc[df['tier'] == label]\n",
    "    results = results.append({'avg_success':label_df['success'].mean(), 'tier':label, 'tenure':label_df['tenure'].mean()}, ignore_index=True)"
   ]
  },
  {
   "cell_type": "code",
   "execution_count": 8,
   "metadata": {},
   "outputs": [],
   "source": [
    "#Generate pearson correlation\n",
    "corr = results.corr(method=\"pearson\")"
   ]
  },
  {
   "cell_type": "code",
   "execution_count": 21,
   "metadata": {},
   "outputs": [
    {
     "data": {
      "text/plain": [
       "<matplotlib.legend.Legend at 0x7fd2e3c442d0>"
      ]
     },
     "execution_count": 21,
     "metadata": {},
     "output_type": "execute_result"
    },
    {
     "data": {
      "image/png": "[encoded data removed]",
      "text/plain": [
       "<Figure size 432x288 with 1 Axes>"
      ]
     },
     "metadata": {
      "needs_background": "light"
     },
     "output_type": "display_data"
    }
   ],
   "source": [
    "# Plot chart\n",
    "x = np.arange(len(results['tenure']))  # the label locations\n",
    "ax = results.plot.bar(x='tenure', y='avg_success', rot=0)\n",
    "\n",
    "# Add some text for labels, title and custom x-axis tick labels, etc.\n",
    "ax.set_ylabel('Success')\n",
    "ax.set_title('Average Success based on Average Tenure')\n",
    "ax.set_xticks(x)\n",
    "ax.set_xticklabels(results['tenure'].astype('int64'))\n",
    "ax.set_xlabel('Tenure')\n",
    "\n",
    "ax.legend(bbox_to_anchor=(1, 1), loc='best', ncol=1)"
   ]
  },
  {
   "cell_type": "code",
   "execution_count": null,
   "metadata": {},
   "outputs": [],
   "source": []
  }
 ],
 "metadata": {
  "kernelspec": {
   "display_name": "Python 3",
   "language": "python",
   "name": "python3"
  },
  "language_info": {
   "codemirror_mode": {
    "name": "ipython",
    "version": 3
   },
   "file_extension": ".py",
   "mimetype": "text/x-python",
   "name": "python",
   "nbconvert_exporter": "python",
   "pygments_lexer": "ipython3",
   "version": "3.7.4"
  }
 },
 "nbformat": 4,
 "nbformat_minor": 2
}
